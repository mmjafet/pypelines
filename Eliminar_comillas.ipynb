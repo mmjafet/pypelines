{
 "cells": [
  {
   "cell_type": "code",
   "execution_count": 9,
   "id": "a203ded1",
   "metadata": {},
   "outputs": [
    {
     "name": "stdout",
     "output_type": "stream",
     "text": [
      "Se han eliminado las comillas en la columna 4 en 'archive/full_sin.csv'. El resultado se ha guardado en 'archive/full_sin2.csv'.\n"
     ]
    }
   ],
   "source": [
    "import csv\n",
    "\n",
    "def eliminar_comillas(input_csv, output_csv):\n",
    "    with open(input_csv, 'r', newline='') as csv_file:\n",
    "        reader = csv.reader(csv_file)\n",
    "        data = list(reader)\n",
    "\n",
    "    # Procesar cada fila y eliminar comillas en la columna 4\n",
    "    for row in data:\n",
    "        # Verificar si la columna 4 contiene comillas\n",
    "        if row[13]:\n",
    "            # Eliminar todas las comillas en la columna 4\n",
    "            row[13] = row[13].replace('\"', '')\n",
    "\n",
    "    with open(output_csv, 'w', newline='') as csv_file:\n",
    "        writer = csv.writer(csv_file)\n",
    "        writer.writerows(data)\n",
    "\n",
    "if __name__ == \"__main__\":\n",
    "    input_file = \"archive/full_sin.csv\"  # Reemplaza con el nombre de tu archivo CSV\n",
    "    output_file = \"archive/full_sin2.csv\"  # Reemplaza con el nombre deseado del nuevo archivo CSV\n",
    "\n",
    "    eliminar_comillas(input_file, output_file)\n",
    "    \n",
    "    print(f\"Se han eliminado las comillas en la columna 4 en '{input_file}'. El resultado se ha guardado en '{output_file}'.\")\n"
   ]
  },
  {
   "cell_type": "code",
   "execution_count": null,
   "id": "ab3cebeb",
   "metadata": {},
   "outputs": [],
   "source": []
  }
 ],
 "metadata": {
  "kernelspec": {
   "display_name": "Python 3 (ipykernel)",
   "language": "python",
   "name": "python3"
  },
  "language_info": {
   "codemirror_mode": {
    "name": "ipython",
    "version": 3
   },
   "file_extension": ".py",
   "mimetype": "text/x-python",
   "name": "python",
   "nbconvert_exporter": "python",
   "pygments_lexer": "ipython3",
   "version": "3.10.9"
  }
 },
 "nbformat": 4,
 "nbformat_minor": 5
}

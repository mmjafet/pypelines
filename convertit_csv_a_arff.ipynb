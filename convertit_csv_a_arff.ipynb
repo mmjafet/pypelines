{
 "cells": [
  {
   "cell_type": "code",
   "execution_count": 1,
   "id": "78a52835",
   "metadata": {},
   "outputs": [],
   "source": [
    "import pandas as pd\n",
    "\n",
    "def csv_to_arff(csv_file, arff_file, relation_name='data'):\n",
    "    # Lee el archivo CSV con pandas\n",
    "    df = pd.read_csv(csv_file)\n",
    "\n",
    "    # Escribe el archivo ARFF\n",
    "    with open(arff_file, 'w') as f:\n",
    "        # Escribe la cabecera del archivo ARFF\n",
    "        f.write(f'@relation {relation_name}\\n\\n')\n",
    "\n",
    "        # Escribe las definiciones de atributos\n",
    "        for column in df.columns:\n",
    "            f.write(f'@attribute {column} numeric\\n')\n",
    "\n",
    "        # Escribe los datos\n",
    "        f.write('\\n@data\\n')\n",
    "        for _, row in df.iterrows():\n",
    "            f.write(','.join(map(str, row)) + '\\n')\n",
    "\n",
    "# Ejemplo de uso\n",
    "csv_file_path = 'archive/full.csv'  # Reemplaza con la ruta de tu archivo CSV\n",
    "arff_file_path = 'archive/full2.arff'  # Nombre deseado para el archivo ARFF\n",
    "\n",
    "csv_to_arff(csv_file_path, arff_file_path)\n"
   ]
  },
  {
   "cell_type": "code",
   "execution_count": null,
   "id": "fe9ff6fc",
   "metadata": {},
   "outputs": [],
   "source": []
  }
 ],
 "metadata": {
  "kernelspec": {
   "display_name": "Python 3 (ipykernel)",
   "language": "python",
   "name": "python3"
  },
  "language_info": {
   "codemirror_mode": {
    "name": "ipython",
    "version": 3
   },
   "file_extension": ".py",
   "mimetype": "text/x-python",
   "name": "python",
   "nbconvert_exporter": "python",
   "pygments_lexer": "ipython3",
   "version": "3.12.4"
  }
 },
 "nbformat": 4,
 "nbformat_minor": 5
}
